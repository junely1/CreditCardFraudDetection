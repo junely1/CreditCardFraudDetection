{
 "cells": [
  {
   "cell_type": "code",
   "execution_count": 15,
   "metadata": {
    "collapsed": true
   },
   "outputs": [],
   "source": [
    "# import libraries \n",
    "import numpy as np\n",
    "import pandas as pd\n",
    "import matplotlib \n",
    "import seaborn as sns\n",
    "import matplotlib.pyplot as plt \n",
    "from sklearn.preprocessing import StandardScaler\n",
    "from sklearn.model_selection import train_test_split\n",
    "from sklearn.linear_model import LogisticRegression\n",
    "from sklearn.metrics import confusion_matrix\n",
    "from sklearn.metrics import classification_report"
   ]
  },
  {
   "cell_type": "code",
   "execution_count": 16,
   "metadata": {
    "collapsed": true
   },
   "outputs": [],
   "source": [
    "matplotlib.rcParams['figure.figsize']= (12.0, 6.0)"
   ]
  },
  {
   "cell_type": "code",
   "execution_count": 17,
   "metadata": {
    "collapsed": true
   },
   "outputs": [],
   "source": [
    "# read dataframe\n",
    "df = pd.read_csv(\"creditcard.csv\")"
   ]
  },
  {
   "cell_type": "code",
   "execution_count": 18,
   "metadata": {
    "collapsed": true
   },
   "outputs": [],
   "source": [
    "# predicator vs prediction\n",
    "X = df.iloc[:, df.columns!='Class']\n",
    "Y = df.iloc[:, df.columns == 'Class']"
   ]
  },
  {
   "cell_type": "code",
   "execution_count": 19,
   "metadata": {
    "collapsed": true
   },
   "outputs": [],
   "source": [
    "# preprocess the time value (seconds to hour)\n",
    "df['Hour']=df['Time'].apply(lambda x: np.ceil(float(x)/3600)%24)"
   ]
  },
  {
   "cell_type": "code",
   "execution_count": 20,
   "metadata": {
    "scrolled": true
   },
   "outputs": [
    {
     "data": {
      "text/html": [
       "<div>\n",
       "<style>\n",
       "    .dataframe thead tr:only-child th {\n",
       "        text-align: right;\n",
       "    }\n",
       "\n",
       "    .dataframe thead th {\n",
       "        text-align: left;\n",
       "    }\n",
       "\n",
       "    .dataframe tbody tr th {\n",
       "        vertical-align: top;\n",
       "    }\n",
       "</style>\n",
       "<table border=\"1\" class=\"dataframe\">\n",
       "  <thead>\n",
       "    <tr style=\"text-align: right;\">\n",
       "      <th>Class</th>\n",
       "      <th>0</th>\n",
       "      <th>1</th>\n",
       "    </tr>\n",
       "    <tr>\n",
       "      <th>Hour</th>\n",
       "      <th></th>\n",
       "      <th></th>\n",
       "    </tr>\n",
       "  </thead>\n",
       "  <tbody>\n",
       "    <tr>\n",
       "      <th>0.0</th>\n",
       "      <td>10919</td>\n",
       "      <td>21</td>\n",
       "    </tr>\n",
       "    <tr>\n",
       "      <th>1.0</th>\n",
       "      <td>7687</td>\n",
       "      <td>6</td>\n",
       "    </tr>\n",
       "    <tr>\n",
       "      <th>2.0</th>\n",
       "      <td>4212</td>\n",
       "      <td>10</td>\n",
       "    </tr>\n",
       "    <tr>\n",
       "      <th>3.0</th>\n",
       "      <td>3269</td>\n",
       "      <td>57</td>\n",
       "    </tr>\n",
       "    <tr>\n",
       "      <th>4.0</th>\n",
       "      <td>3476</td>\n",
       "      <td>17</td>\n",
       "    </tr>\n",
       "    <tr>\n",
       "      <th>5.0</th>\n",
       "      <td>2185</td>\n",
       "      <td>23</td>\n",
       "    </tr>\n",
       "    <tr>\n",
       "      <th>6.0</th>\n",
       "      <td>2979</td>\n",
       "      <td>11</td>\n",
       "    </tr>\n",
       "    <tr>\n",
       "      <th>7.0</th>\n",
       "      <td>4093</td>\n",
       "      <td>9</td>\n",
       "    </tr>\n",
       "    <tr>\n",
       "      <th>8.0</th>\n",
       "      <td>7219</td>\n",
       "      <td>23</td>\n",
       "    </tr>\n",
       "    <tr>\n",
       "      <th>9.0</th>\n",
       "      <td>10266</td>\n",
       "      <td>9</td>\n",
       "    </tr>\n",
       "    <tr>\n",
       "      <th>10.0</th>\n",
       "      <td>15824</td>\n",
       "      <td>16</td>\n",
       "    </tr>\n",
       "    <tr>\n",
       "      <th>11.0</th>\n",
       "      <td>16593</td>\n",
       "      <td>8</td>\n",
       "    </tr>\n",
       "    <tr>\n",
       "      <th>12.0</th>\n",
       "      <td>16804</td>\n",
       "      <td>53</td>\n",
       "    </tr>\n",
       "    <tr>\n",
       "      <th>13.0</th>\n",
       "      <td>15400</td>\n",
       "      <td>17</td>\n",
       "    </tr>\n",
       "    <tr>\n",
       "      <th>14.0</th>\n",
       "      <td>15350</td>\n",
       "      <td>17</td>\n",
       "    </tr>\n",
       "    <tr>\n",
       "      <th>15.0</th>\n",
       "      <td>16545</td>\n",
       "      <td>23</td>\n",
       "    </tr>\n",
       "    <tr>\n",
       "      <th>16.0</th>\n",
       "      <td>16434</td>\n",
       "      <td>26</td>\n",
       "    </tr>\n",
       "    <tr>\n",
       "      <th>17.0</th>\n",
       "      <td>16435</td>\n",
       "      <td>22</td>\n",
       "    </tr>\n",
       "    <tr>\n",
       "      <th>18.0</th>\n",
       "      <td>16135</td>\n",
       "      <td>29</td>\n",
       "    </tr>\n",
       "    <tr>\n",
       "      <th>19.0</th>\n",
       "      <td>17003</td>\n",
       "      <td>33</td>\n",
       "    </tr>\n",
       "    <tr>\n",
       "      <th>20.0</th>\n",
       "      <td>15632</td>\n",
       "      <td>19</td>\n",
       "    </tr>\n",
       "    <tr>\n",
       "      <th>21.0</th>\n",
       "      <td>16739</td>\n",
       "      <td>18</td>\n",
       "    </tr>\n",
       "    <tr>\n",
       "      <th>22.0</th>\n",
       "      <td>17692</td>\n",
       "      <td>16</td>\n",
       "    </tr>\n",
       "    <tr>\n",
       "      <th>23.0</th>\n",
       "      <td>15424</td>\n",
       "      <td>9</td>\n",
       "    </tr>\n",
       "  </tbody>\n",
       "</table>\n",
       "</div>"
      ],
      "text/plain": [
       "Class      0   1\n",
       "Hour            \n",
       "0.0    10919  21\n",
       "1.0     7687   6\n",
       "2.0     4212  10\n",
       "3.0     3269  57\n",
       "4.0     3476  17\n",
       "5.0     2185  23\n",
       "6.0     2979  11\n",
       "7.0     4093   9\n",
       "8.0     7219  23\n",
       "9.0    10266   9\n",
       "10.0   15824  16\n",
       "11.0   16593   8\n",
       "12.0   16804  53\n",
       "13.0   15400  17\n",
       "14.0   15350  17\n",
       "15.0   16545  23\n",
       "16.0   16434  26\n",
       "17.0   16435  22\n",
       "18.0   16135  29\n",
       "19.0   17003  33\n",
       "20.0   15632  19\n",
       "21.0   16739  18\n",
       "22.0   17692  16\n",
       "23.0   15424   9"
      ]
     },
     "execution_count": 20,
     "metadata": {},
     "output_type": "execute_result"
    }
   ],
   "source": [
    "# legit and fraud transactions via pivot table per hour\n",
    "df.pivot_table(values='Amount', index='Hour', columns ='Class', aggfunc='count')"
   ]
  },
  {
   "cell_type": "code",
   "execution_count": 21,
   "metadata": {
    "collapsed": true
   },
   "outputs": [],
   "source": [
    "#show the normal distribution via histogram per hour\n",
    "def PlotHistogram(df, norm):\n",
    "    bins = np.arange(df['Hour'].min(), df['Hour'].max()+2)\n",
    "    plt.figure(figsize=(10, 5))\n",
    "    sns.distplot(df[df['Class']==0.0]['Hour'], \n",
    "               norm_hist=norm, \n",
    "               bins=bins, \n",
    "               kde=False, \n",
    "               color='b', \n",
    "               hist_kws={'alpha':.5}, \n",
    "               label='Legit Transactions')\n",
    "    sns.distplot(df[df['Class']==1.0]['Hour'], \n",
    "                norm_hist=norm, \n",
    "                bins=bins, \n",
    "                kde=False, \n",
    "                color='r', \n",
    "                hist_kws={'alpha':.5}, \n",
    "                label='Fraud Transactions')\n",
    "    plt.title(\"Normalized histrogram of legit/fraud transactions per hour of the day\")\n",
    "    plt.xticks(range(0,24))\n",
    "    plt.legend()\n",
    "    plt.show()\n",
    "    \n",
    "    "
   ]
  },
  {
   "cell_type": "code",
   "execution_count": 22,
   "metadata": {},
   "outputs": [
    {
     "data": {
      "image/png": "[encoded data removed]",
      "text/plain": [
       "<matplotlib.figure.Figure at 0x116558748>"
      ]
     },
     "metadata": {},
     "output_type": "display_data"
    }
   ],
   "source": [
    "PlotHistogram(df, True)"
   ]
  },
  {
   "cell_type": "code",
   "execution_count": 23,
   "metadata": {
    "collapsed": true
   },
   "outputs": [],
   "source": [
    "# drop Hour from dataframe \n",
    "df = df.drop(['Hour'], axis=1)"
   ]
  },
  {
   "cell_type": "code",
   "execution_count": 24,
   "metadata": {
    "collapsed": true
   },
   "outputs": [],
   "source": [
    "# calculating \n",
    "#the toal number of normal vs. fraudulent transactions \n",
    "Total_Normal_Transactions = len(df[df['Class']==0])\n",
    "Total_Fraud_Transactions = len(df[df['Class']==1])\n",
    "\n",
    "# percentage of normal and fraudulent transactions \n",
    "Percent_Normal_Transactions = Total_Normal_Transactions/(Total_Fraud_Transactions+ Total_Normal_Transactions)\n",
    "Percent_Fraud_Transactions = Total_Fraud_Transactions/(Total_Fraud_Transactions+ Total_Normal_Transactions)"
   ]
  },
  {
   "cell_type": "code",
   "execution_count": 25,
   "metadata": {
    "scrolled": false
   },
   "outputs": [
    {
     "name": "stdout",
     "output_type": "stream",
     "text": [
      "% of normal transactions:  99.82725143693798\n",
      "% of fraud transactions:  0.1727485630620034\n"
     ]
    }
   ],
   "source": [
    "print(\"% of normal transactions: \",Percent_Normal_Transactions*100)\n",
    "print(\"% of fraud transactions: \", Percent_Fraud_Transactions*100)\n"
   ]
  },
  {
   "cell_type": "code",
   "execution_count": 26,
   "metadata": {
    "collapsed": true,
    "scrolled": true
   },
   "outputs": [],
   "source": [
    "# define scaler \n",
    "scaler = StandardScaler()\n"
   ]
  },
  {
   "cell_type": "code",
   "execution_count": 27,
   "metadata": {
    "collapsed": true
   },
   "outputs": [],
   "source": [
    "df['Amount_Scaled']= scaler.fit_transform(df['Amount'].values.reshape(-1, 1))"
   ]
  },
  {
   "cell_type": "code",
   "execution_count": 38,
   "metadata": {
    "collapsed": true
   },
   "outputs": [],
   "source": [
    "#show the normal distribution via histogram per hour\n",
    "# def PlotHistogram(df, norm):\n",
    "#     bins = np.arange(df['Hour'].min(), df['Hour'].max()+2)\n",
    "#     plt.figure(figsize=(10, 5))\n",
    "#     sns.distplot(df[df['Amount']==0.0]['Hour'], \n",
    "#                norm_hist=norm, \n",
    "#                bins=bins, \n",
    "#                kde=False, \n",
    "#                color='b', \n",
    "#                hist_kws={'alpha':.5}, \n",
    "#                label='Amount')\n",
    "#     plt.title(\"Normalized histrogram of transaction amount per hour of the day\")\n",
    "#     plt.xticks(range(0,24))\n",
    "#     plt.legend()\n",
    "#     plt.show()\n",
    "    "
   ]
  },
  {
   "cell_type": "code",
   "execution_count": 39,
   "metadata": {},
   "outputs": [
    {
     "data": {
      "image/png": "[encoded data removed]",
      "text/plain": [
       "<matplotlib.figure.Figure at 0x1182e1b38>"
      ]
     },
     "metadata": {},
     "output_type": "display_data"
    }
   ],
   "source": [
    "# PlotHistogram(df, True)"
   ]
  },
  {
   "cell_type": "code",
   "execution_count": null,
   "metadata": {},
   "outputs": [],
   "source": [
    "\n",
    "sns.pairplot(df);"
   ]
  },
  {
   "cell_type": "code",
   "execution_count": 306,
   "metadata": {
    "collapsed": true
   },
   "outputs": [],
   "source": [
    "# drop time and amount\n",
    "# amount -> amount_scaled \n",
    "df = df.drop(['Time', 'Amount'], axis=1)"
   ]
  },
  {
   "cell_type": "code",
   "execution_count": 307,
   "metadata": {
    "collapsed": true
   },
   "outputs": [],
   "source": [
    "# number of records in the fraud class \n",
    "num_fraud = len(df[df['Class']==1])"
   ]
  },
  {
   "cell_type": "code",
   "execution_count": 308,
   "metadata": {
    "collapsed": true
   },
   "outputs": [],
   "source": [
    "# indices of fraud and normal cases:\n",
    "fraud_indices = np.array(df[df['Class']==1].index)\n",
    "normal_indices= np.array(df[df['Class']==0].index)"
   ]
  },
  {
   "cell_type": "code",
   "execution_count": 309,
   "metadata": {
    "collapsed": true
   },
   "outputs": [],
   "source": [
    "# randomly select 'n' number of indices of the normal class.. \n",
    "# n being the total number of fraud cases \n",
    "# select the same number of random transactions from normal transactions\n",
    "random_normal_indices = np.random.choice(normal_indices, num_fraud,replace=False)"
   ]
  },
  {
   "cell_type": "code",
   "execution_count": 310,
   "metadata": {
    "collapsed": true
   },
   "outputs": [],
   "source": [
    "random_normal_indices = np.array(random_normal_indices)"
   ]
  },
  {
   "cell_type": "code",
   "execution_count": 311,
   "metadata": {
    "collapsed": true
   },
   "outputs": [],
   "source": [
    "# append two indices \n",
    "under_sample_indices = np.concatenate([fraud_indices, random_normal_indices])"
   ]
  },
  {
   "cell_type": "code",
   "execution_count": 312,
   "metadata": {
    "collapsed": true
   },
   "outputs": [],
   "source": [
    "# undersample the dataset \n",
    "under_sample_data = df.iloc[under_sample_indices, :]"
   ]
  },
  {
   "cell_type": "code",
   "execution_count": 313,
   "metadata": {
    "collapsed": true,
    "scrolled": true
   },
   "outputs": [],
   "source": [
    "fraud_per_now = len(under_sample_data[under_sample_data.Class==1])/(len(under_sample_data[under_sample_data.Class==1]) + len(under_sample_data[under_sample_data.Class==0]))"
   ]
  },
  {
   "cell_type": "code",
   "execution_count": 314,
   "metadata": {
    "collapsed": true
   },
   "outputs": [],
   "source": [
    "normal_per_now = len(under_sample_data[under_sample_data.Class==0])/ (len(under_sample_data[under_sample_data.Class==0]) + len(under_sample_data[under_sample_data.Class==1]))"
   ]
  },
  {
   "cell_type": "code",
   "execution_count": 315,
   "metadata": {},
   "outputs": [
    {
     "name": "stdout",
     "output_type": "stream",
     "text": [
      "0.5\n",
      "0.5\n"
     ]
    }
   ],
   "source": [
    "print(fraud_per_now)\n",
    "print(normal_per_now)"
   ]
  },
  {
   "cell_type": "code",
   "execution_count": 316,
   "metadata": {
    "collapsed": true
   },
   "outputs": [],
   "source": [
    "# organizing data \n"
   ]
  },
  {
   "cell_type": "code",
   "execution_count": 317,
   "metadata": {
    "collapsed": true
   },
   "outputs": [],
   "source": [
    "x_train, x_test, y_train, y_test = train_test_split(X, Y, test_size=0.3, random_state = 0)"
   ]
  },
  {
   "cell_type": "code",
   "execution_count": 318,
   "metadata": {},
   "outputs": [
    {
     "name": "stdout",
     "output_type": "stream",
     "text": [
      "Number of transactions in train data:  199364\n",
      "Number of transactions in test data:  85443\n",
      "Total number of transactions:  284807\n"
     ]
    }
   ],
   "source": [
    "print(\"Number of transactions in train data: \", len(x_train))\n",
    "print(\"Number of transactions in test data: \", len(x_test))\n",
    "print(\"Total number of transactions: \", len(x_train)+ len(x_test))"
   ]
  },
  {
   "cell_type": "code",
   "execution_count": 319,
   "metadata": {
    "collapsed": true
   },
   "outputs": [],
   "source": [
    "#predicates & predictions\n",
    "x_undersample = under_sample_data.iloc[:, under_sample_data.columns!='Class']\n",
    "y_undersample= under_sample_data.iloc[:, under_sample_data.columns=='Class']"
   ]
  },
  {
   "cell_type": "code",
   "execution_count": 320,
   "metadata": {
    "collapsed": true
   },
   "outputs": [],
   "source": [
    "# split undersampled data into train and test set \n",
    "x_train_undersample, x_test_undersample, y_train_undersample, y_test_undersample = train_test_split(x_undersample, y_undersample, test_size=0.3, random_state=0)"
   ]
  },
  {
   "cell_type": "code",
   "execution_count": 321,
   "metadata": {},
   "outputs": [
    {
     "name": "stdout",
     "output_type": "stream",
     "text": [
      "Number of transactions in undersampled train dataset:  688\n",
      "Number of transactions in undersampled test dataset:  296\n",
      "Total number of transactions in undersampled dataset:  984\n"
     ]
    }
   ],
   "source": [
    "print(\"Number of transactions in undersampled train dataset: \", len(x_train_undersample))\n",
    "print(\"Number of transactions in undersampled test dataset: \", len(x_test_undersample))\n",
    "print(\"Total number of transactions in undersampled dataset: \", len(x_train_undersample)+ len(x_test_undersample))"
   ]
  },
  {
   "cell_type": "code",
   "execution_count": 322,
   "metadata": {
    "collapsed": true
   },
   "outputs": [],
   "source": [
    "# predict values using the whole dataset "
   ]
  },
  {
   "cell_type": "code",
   "execution_count": 323,
   "metadata": {
    "scrolled": true
   },
   "outputs": [
    {
     "name": "stderr",
     "output_type": "stream",
     "text": [
      "/Users/anaconda/lib/python3.6/site-packages/sklearn/utils/validation.py:526: DataConversionWarning: A column-vector y was passed when a 1d array was expected. Please change the shape of y to (n_samples, ), for example using ravel().\n",
      "  y = column_or_1d(y, warn=True)\n"
     ]
    },
    {
     "data": {
      "text/plain": [
       "LogisticRegression(C=1.0, class_weight=None, dual=False, fit_intercept=True,\n",
       "          intercept_scaling=1, max_iter=100, multi_class='ovr', n_jobs=1,\n",
       "          penalty='l2', random_state=None, solver='liblinear', tol=0.0001,\n",
       "          verbose=0, warm_start=False)"
      ]
     },
     "execution_count": 323,
     "metadata": {},
     "output_type": "execute_result"
    }
   ],
   "source": [
    "# Using Logistic Regression\n",
    "lr_model = LogisticRegression()\n",
    "lr_model.fit(x_train, y_train)"
   ]
  },
  {
   "cell_type": "code",
   "execution_count": 324,
   "metadata": {
    "collapsed": true
   },
   "outputs": [],
   "source": [
    "# predict\n",
    "pred = lr_model.predict(x_test)"
   ]
  },
  {
   "cell_type": "code",
   "execution_count": 325,
   "metadata": {
    "collapsed": true
   },
   "outputs": [],
   "source": [
    "y_test_legit = len(y_test[y_test['Class']==0])\n",
    "y_test_fraud = len(y_test[y_test['Class']==1])"
   ]
  },
  {
   "cell_type": "code",
   "execution_count": 326,
   "metadata": {
    "collapsed": true
   },
   "outputs": [],
   "source": [
    "# confusion matrix \n",
    "def PlotConfusionMatrix(y_test, pred, y_test_legit, y_test_fraud):\n",
    "    cfn_matrix = confusion_matrix(y_test, pred)\n",
    "    cfn_norm_matrix = np.array([[1.0/y_test_legit, 1.0/y_test_legit], [1.0/y_test_fraud, 1.0/y_test_fraud]])\n",
    "    norm_cfn_matrix = cfn_matrix * cfn_norm_matrix\n",
    "    \n",
    "    fig = plt.figure(figsize=(15, 5))\n",
    "    ax = fig.add_subplot(1, 2, 1)\n",
    "    sns.heatmap(cfn_matrix, cmap='coolwarm_r', linewidth=0.5, annot=True, ax=ax)\n",
    "    plt.title('Confusion Matrix')\n",
    "    plt.ylabel('Real Classes')\n",
    "    plt.xlabel('Predicted Classes')\n",
    "    \n",
    "    ax = fig.add_subplot(1, 2, 2)\n",
    "    sns.heatmap(norm_cfn_matrix, cmap='coolwarm_r', linewidth=0.5, annot=True, ax=ax)\n",
    "    plt.title('Normalized Confusion Matrix')\n",
    "    plt.ylabel('Real Classes')\n",
    "    plt.xlabel('Predicted Classes')\n",
    "    plt.show()\n",
    "    \n",
    "    print('----------Classification Report --- All Data ---------')\n",
    "    print(classification_report(y_test, pred))"
   ]
  },
  {
   "cell_type": "code",
   "execution_count": 327,
   "metadata": {},
   "outputs": [
    {
     "data": {
      "image/png": "[encoded data removed]",
      "text/plain": [
       "<matplotlib.figure.Figure at 0x11524e668>"
      ]
     },
     "metadata": {},
     "output_type": "display_data"
    },
    {
     "name": "stdout",
     "output_type": "stream",
     "text": [
      "----------Classification Report --- All Data ---------\n",
      "             precision    recall  f1-score   support\n",
      "\n",
      "          0       1.00      1.00      1.00     85296\n",
      "          1       0.88      0.52      0.66       147\n",
      "\n",
      "avg / total       1.00      1.00      1.00     85443\n",
      "\n"
     ]
    }
   ],
   "source": [
    "# confusion matrix\n",
    "PlotConfusionMatrix(y_test, pred, y_test_legit, y_test_fraud)"
   ]
  },
  {
   "cell_type": "code",
   "execution_count": 328,
   "metadata": {
    "collapsed": true
   },
   "outputs": [],
   "source": [
    "# ------ Predicting the values of undersampled dataset ------ #\n"
   ]
  },
  {
   "cell_type": "code",
   "execution_count": 329,
   "metadata": {},
   "outputs": [
    {
     "name": "stderr",
     "output_type": "stream",
     "text": [
      "/Users/anaconda/lib/python3.6/site-packages/sklearn/utils/validation.py:526: DataConversionWarning: A column-vector y was passed when a 1d array was expected. Please change the shape of y to (n_samples, ), for example using ravel().\n",
      "  y = column_or_1d(y, warn=True)\n"
     ]
    },
    {
     "data": {
      "text/plain": [
       "LogisticRegression(C=1.0, class_weight=None, dual=False, fit_intercept=True,\n",
       "          intercept_scaling=1, max_iter=100, multi_class='ovr', n_jobs=1,\n",
       "          penalty='l2', random_state=None, solver='liblinear', tol=0.0001,\n",
       "          verbose=0, warm_start=False)"
      ]
     },
     "execution_count": 329,
     "metadata": {},
     "output_type": "execute_result"
    }
   ],
   "source": [
    "# create model and fit the dataset\n",
    "lr_model_undersample = LogisticRegression()\n",
    "lr_model_undersample.fit(x_train_undersample, y_train_undersample)"
   ]
  },
  {
   "cell_type": "code",
   "execution_count": 330,
   "metadata": {
    "collapsed": true
   },
   "outputs": [],
   "source": [
    "# predict model \n",
    "pred_undersample = lr_model_undersample.predict(x_test_undersample)"
   ]
  },
  {
   "cell_type": "code",
   "execution_count": 331,
   "metadata": {
    "collapsed": true
   },
   "outputs": [],
   "source": [
    "\n",
    "y_test_legit_undersample = len(y_test_undersample[y_test_undersample['Class']==0])\n",
    "y_test_fraud_undersample = len(y_test_undersample[y_test_undersample['Class']==1])"
   ]
  },
  {
   "cell_type": "code",
   "execution_count": 332,
   "metadata": {
    "collapsed": true
   },
   "outputs": [],
   "source": [
    "# confusion matrix plotting for undersampled dataset result \n",
    "def PlotConfusionMatrixUndersample(y_test_undersample, pred_undersample, y_test_legit_undersample, y_test_fraud_undersample):\n",
    "    \n",
    "    cfn_matrix_undersample = confusion_matrix(y_test_undersample, pred_undersample)\n",
    "    cfn_norm_matrix_undersample = np.array([[1.0/y_test_legit_undersample, 1.0/y_test_legit_undersample], [1.0/ y_test_fraud_undersample, 1.0/y_test_fraud_undersample]])\n",
    "    norm_cfn_matrix_undersample = cfn_matrix_undersample * cfn_norm_matrix_undersample\n",
    "    \n",
    "    fig = plt.figure(figsize=(15, 5))\n",
    "    ax = fig.add_subplot(1, 2, 1)\n",
    "    sns.heatmap(cfn_matrix_undersample, cmap='coolwarm_r', linewidth=0.5, annot=True, ax=ax)\n",
    "    plt.title('Confusion Matrix')\n",
    "    plt.ylabel('Real Classes')\n",
    "    plt.xlabel('Predicted Classes')\n",
    "    \n",
    "    ax = fig.add_subplot(1, 2, 2)\n",
    "    sns.heatmap(norm_cfn_matrix_undersample, cmap='coolwarm_r', linewidth=0.5, annot=True, ax=ax)\n",
    "    plt.title('Undersampled Normalized Confusion Matrix')\n",
    "    plt.ylabel('Real Classes')\n",
    "    plt.xlabel('Predicted Classes')\n",
    "    plt.show()\n",
    "    \n",
    "    print('------- Classification Report --- Undersampled Data --------')\n",
    "    print(classification_report(y_test_undersample, pred_undersample))"
   ]
  },
  {
   "cell_type": "code",
   "execution_count": 333,
   "metadata": {},
   "outputs": [
    {
     "data": {
      "image/png": "[encoded data removed]",
      "text/plain": [
       "<matplotlib.figure.Figure at 0x117193780>"
      ]
     },
     "metadata": {},
     "output_type": "display_data"
    },
    {
     "name": "stdout",
     "output_type": "stream",
     "text": [
      "------- Classification Report --- Undersampled Data --------\n",
      "             precision    recall  f1-score   support\n",
      "\n",
      "          0       0.93      0.96      0.95       149\n",
      "          1       0.96      0.93      0.94       147\n",
      "\n",
      "avg / total       0.95      0.95      0.95       296\n",
      "\n"
     ]
    }
   ],
   "source": [
    "PlotConfusionMatrixUndersample(y_test_undersample, pred_undersample, y_test_legit_undersample, y_test_fraud_undersample)"
   ]
  },
  {
   "cell_type": "code",
   "execution_count": 334,
   "metadata": {
    "collapsed": true
   },
   "outputs": [],
   "source": [
    "x_test = x_test.drop(['Time'], axis=1)\n",
    "x_test['Amount_scaled']= scaler.fit_transform(x_test['Amount'].values.reshape(-1, 1))\n",
    "x_test = x_test.drop(['Amount'], axis=1)"
   ]
  },
  {
   "cell_type": "code",
   "execution_count": 335,
   "metadata": {
    "scrolled": true
   },
   "outputs": [
    {
     "name": "stderr",
     "output_type": "stream",
     "text": [
      "/Users/anaconda/lib/python3.6/site-packages/sklearn/utils/validation.py:526: DataConversionWarning: A column-vector y was passed when a 1d array was expected. Please change the shape of y to (n_samples, ), for example using ravel().\n",
      "  y = column_or_1d(y, warn=True)\n"
     ]
    },
    {
     "data": {
      "image/png": "[encoded data removed]",
      "text/plain": [
       "<matplotlib.figure.Figure at 0x1163b46d8>"
      ]
     },
     "metadata": {},
     "output_type": "display_data"
    },
    {
     "name": "stdout",
     "output_type": "stream",
     "text": [
      "----------- Classification Report --- Undersampled Classifier on All Data -----------\n",
      "             precision    recall  f1-score   support\n",
      "\n",
      "          0       1.00      0.96      0.98     85296\n",
      "          1       0.04      0.93      0.08       147\n",
      "\n",
      "avg / total       1.00      0.96      0.98     85443\n",
      "\n"
     ]
    }
   ],
   "source": [
    "lr_model_all_undersample = LogisticRegression()\n",
    "lr_model_all_undersample.fit(x_train_undersample,y_train_undersample)\n",
    "pred_all_undersample = lr_model_all_undersample.predict(x_test)\n",
    "\n",
    "\n",
    "def PlotConfusionMatrixAllUndersample(Y_test,pred_all_undersample,Y_test_legit,Y_test_fraud):\n",
    "\n",
    "    cfn_matrix = confusion_matrix(Y_test,pred_all_undersample)\n",
    "    cfn_norm_matrix = np.array([[1.0 / Y_test_legit, 1.0 / Y_test_legit],[1.0/Y_test_fraud,1.0/Y_test_fraud]])\n",
    "    norm_cfn_matrix = cfn_matrix * cfn_norm_matrix\n",
    "\n",
    "    fig = plt.figure(figsize=(15,5))\n",
    "    ax = fig.add_subplot(1,2,1)\n",
    "    sns.heatmap(cfn_matrix,cmap='coolwarm_r',linewidths=0.5,annot=True,ax=ax)\n",
    "    plt.title('Undersampled Confusion Matrix on All Data')\n",
    "    plt.ylabel('Real Classes')\n",
    "    plt.xlabel('Predicted Classes')\n",
    "\n",
    "    ax = fig.add_subplot(1,2,2)\n",
    "    sns.heatmap(norm_cfn_matrix,cmap='coolwarm_r',linewidths=0.5,annot=True,ax=ax)\n",
    "    plt.title('Undersampled Normalized Confusion Matrix on All Data')\n",
    "    plt.ylabel('Real Classes')\n",
    "    plt.xlabel('Predicted Classes')\n",
    "    plt.show()\n",
    "\n",
    "    print('----------- Classification Report --- Undersampled Classifier on All Data -----------')\n",
    "    print(classification_report(Y_test,pred_all_undersample))\n",
    "    \n",
    "PlotConfusionMatrixAllUndersample(y_test,pred_all_undersample,y_test_legit,y_test_fraud)"
   ]
  },
  {
   "cell_type": "code",
   "execution_count": null,
   "metadata": {
    "collapsed": true
   },
   "outputs": [],
   "source": []
  },
  {
   "cell_type": "code",
   "execution_count": null,
   "metadata": {
    "collapsed": true
   },
   "outputs": [],
   "source": []
  },
  {
   "cell_type": "code",
   "execution_count": null,
   "metadata": {
    "collapsed": true
   },
   "outputs": [],
   "source": []
  }
 ],
 "metadata": {
  "kernelspec": {
   "display_name": "Python 3",
   "language": "python",
   "name": "python3"
  },
  "language_info": {
   "codemirror_mode": {
    "name": "ipython",
    "version": 3
   },
   "file_extension": ".py",
   "mimetype": "text/x-python",
   "name": "python",
   "nbconvert_exporter": "python",
   "pygments_lexer": "ipython3",
   "version": "3.6.1"
  }
 },
 "nbformat": 4,
 "nbformat_minor": 2
}
